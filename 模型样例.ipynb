{
 "cells": [
  {
   "cell_type": "markdown",
   "metadata": {},
   "source": [
    "# 1. Logistic Regression\n",
    "\n",
    "\n",
    "模型训练：\n",
    "https://scikit-learn.org/stable/modules/generated/sklearn.linear_model.LogisticRegression.html\n",
    "\n",
    "CrossValidation 模型训练\n",
    "https://scikit-learn.org/stable/modules/generated/sklearn.linear_model.LogisticRegressionCV.html#sklearn.linear_model.LogisticRegressionCV\n",
    "\n",
    "tips:\n",
    "1. penalty都试一试\n",
    "2. 记得要scaler过后的模型\n",
    "3. classWeight 选balance\n",
    "4. 最后用评价指标 AUC 和 KS曲线\n",
    "    4.1 auc计算方式和画图：https://scikit-learn.org/stable/modules/model_evaluation.html#roc-metrics\n",
    "                        3.3.2.14. Receiver operating characteristic (ROC)\n",
    "                        \n",
    "    4.2 ks 曲线计算方式及画图：\n",
    "        ks曲线其实就是 TPR-FPR的最大值，既 max(tpr-fpr)\n",
    "        \n",
    "\n",
    "模型分析："
   ]
  },
  {
   "cell_type": "markdown",
   "metadata": {},
   "source": [
    "# 2. Decision Tree\n",
    "\n",
    "\n",
    "https://scikit-learn.org/stable/modules/generated/sklearn.tree.DecisionTreeClassifier.html\n",
    "\n",
    "tips:\n",
    "1. class weight 用 balance\n",
    "2. min_samples_split 不要太少，建议10-20左右至少\n",
    "3. 不用scaler\n",
    "\n",
    "4. 最后用评价指标 AUC 和 KS曲线\n",
    "    4.1 auc计算方式和画图：https://scikit-learn.org/stable/modules/model_evaluation.html#roc-metrics\n",
    "                        3.3.2.14. Receiver operating characteristic (ROC)\n",
    "                        \n",
    "    4.2 ks 曲线计算方式及画图：\n",
    "        ks曲线其实就是 TPR-FPR的最大值，既 max(tpr-fpr)"
   ]
  },
  {
   "cell_type": "markdown",
   "metadata": {},
   "source": [
    "# 3. GBDT\n",
    "\n",
    "\n",
    "https://scikit-learn.org/stable/modules/generated/sklearn.ensemble.GradientBoostingClassifier.html\n",
    "\n",
    "\n",
    "tips:\n",
    "0. 因为该树无法调整 class weight，记得对训练集中的坏人进行过采样，使得正负样本的数量达到平衡。\n",
    "1. n_estimators 50 -- 300\n",
    "2. 为了可解释性，max_depth 设为1\n",
    "3. max_features 可以多试试4个选择\n",
    "4. n_iter_no_change 可以尝试 5 -- 10\n"
   ]
  },
  {
   "cell_type": "code",
   "execution_count": null,
   "metadata": {},
   "outputs": [],
   "source": []
  }
 ],
 "metadata": {
  "kernelspec": {
   "display_name": "Python 3",
   "language": "python",
   "name": "python3"
  },
  "language_info": {
   "codemirror_mode": {
    "name": "ipython",
    "version": 3
   },
   "file_extension": ".py",
   "mimetype": "text/x-python",
   "name": "python",
   "nbconvert_exporter": "python",
   "pygments_lexer": "ipython3",
   "version": "3.7.7"
  }
 },
 "nbformat": 4,
 "nbformat_minor": 4
}
